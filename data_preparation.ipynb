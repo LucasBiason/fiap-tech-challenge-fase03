{
  "nbformat": 4,
  "nbformat_minor": 0,
  "metadata": {
    "colab": {
      "provenance": [],
      "mount_file_id": "1ZcjUmvmeVcZuroTwcFj80Ib-lzVTBkvf",
      "authorship_tag": "ABX9TyPHQvDS6BwlIGWpgcOpQKTI",
      "include_colab_link": true
    },
    "kernelspec": {
      "name": "python3",
      "display_name": "Python 3"
    },
    "language_info": {
      "name": "python"
    }
  },
  "cells": [
    {
      "cell_type": "markdown",
      "metadata": {
        "id": "view-in-github",
        "colab_type": "text"
      },
      "source": [
        "<a href=\"https://colab.research.google.com/github/renato-penna/fiap-tech-challenge-fase03/blob/main/data_preparation.ipynb\" target=\"_parent\"><img src=\"https://colab.research.google.com/assets/colab-badge.svg\" alt=\"Open In Colab\"/></a>"
      ]
    },
    {
      "cell_type": "markdown",
      "metadata": {
        "id": "db29d975"
      },
      "source": [
        "### Setup and Imports"
      ]
    },
    {
      "cell_type": "code",
      "metadata": {
        "id": "66f85003"
      },
      "source": [
        "import pandas as pd\n",
        "import numpy as np\n",
        "from google.colab import drive\n",
        "import os, json"
      ],
      "execution_count": 33,
      "outputs": []
    },
    {
      "cell_type": "markdown",
      "metadata": {
        "id": "d8be57ee"
      },
      "source": [
        "### Mount Google Drive and Define File Paths"
      ]
    },
    {
      "cell_type": "code",
      "metadata": {
        "colab": {
          "base_uri": "https://localhost:8080/"
        },
        "id": "e2ac43a9",
        "outputId": "50ced839-aa69-43a7-8c84-83fbc92bc028"
      },
      "source": [
        "drive.mount('/content/drive')\n",
        "json_path = '/content/drive/MyDrive/Fiap/trn.json'\n",
        "filtered_jsonl = \"/content/drive/MyDrive/Fiap/trn_filtered.jsonl\""
      ],
      "execution_count": 34,
      "outputs": [
        {
          "output_type": "stream",
          "name": "stdout",
          "text": [
            "Drive already mounted at /content/drive; to attempt to forcibly remount, call drive.mount(\"/content/drive\", force_remount=True).\n"
          ]
        }
      ]
    },
    {
      "cell_type": "markdown",
      "metadata": {
        "id": "dea36c94"
      },
      "source": [
        "### Install ijson Library"
      ]
    },
    {
      "cell_type": "code",
      "metadata": {
        "colab": {
          "base_uri": "https://localhost:8080/"
        },
        "id": "bd2b2730",
        "outputId": "c48cec43-6e92-4fb5-8125-75c3f0055b35"
      },
      "source": [
        "!pip install ijson"
      ],
      "execution_count": 35,
      "outputs": [
        {
          "output_type": "stream",
          "name": "stdout",
          "text": [
            "Requirement already satisfied: ijson in /usr/local/lib/python3.12/dist-packages (3.4.0)\n"
          ]
        }
      ]
    },
    {
      "cell_type": "markdown",
      "metadata": {
        "id": "d3d365a8"
      },
      "source": [
        "### Filter and Save Data in Chunks"
      ]
    },
    {
      "cell_type": "code",
      "metadata": {
        "id": "a2d61551"
      },
      "source": [
        "df_iter = pd.read_json(json_path, lines=True, chunksize=100000)\n",
        "for i, chunk in enumerate(df_iter):\n",
        "    # seleciona apenas as colunas necessárias\n",
        "    filtered = chunk[[\"title\", \"content\"]]\n",
        "\n",
        "    # salva em Json (modo append para juntar tudo em um único arquivo)\n",
        "    mode = \"w\" if i == 0 else \"a\"\n",
        "    filtered.to_json(\n",
        "        filtered_jsonl,\n",
        "        orient=\"records\",\n",
        "        lines=True,\n",
        "        force_ascii=False,\n",
        "        mode=mode\n",
        "    )"
      ],
      "execution_count": 32,
      "outputs": []
    },
    {
      "cell_type": "markdown",
      "metadata": {
        "id": "07b9563f"
      },
      "source": [
        "### Load Filtered Data and Clean"
      ]
    },
    {
      "cell_type": "code",
      "metadata": {
        "id": "ec463f1a"
      },
      "source": [
        "df = pd.read_json(filtered_jsonl, lines=True)\n",
        "\n",
        "# remove linhas onde title ou content está vazio ou nulo\n",
        "df = df[df[\"title\"].notna()]          # remove NaN em title\n",
        "df = df[df[\"title\"].str.strip() != \"\"]  # remove strings vazias ou só espaços em title\n",
        "df = df[df[\"content\"].notna()]          # remove NaN em content\n",
        "df = df[df[\"content\"].str.strip() != \"\"]  # remove strings vazias ou só espaços em content\n",
        "\n",
        "# salva de volta\n",
        "df.to_json(\"/content/drive/MyDrive/Fiap/trnTreaded.json\", index=False)"
      ],
      "execution_count": 36,
      "outputs": []
    },
    {
      "cell_type": "markdown",
      "metadata": {
        "id": "d3070a3f"
      },
      "source": [
        "### Load Processed Data and Display Head"
      ]
    },
    {
      "cell_type": "code",
      "metadata": {
        "colab": {
          "base_uri": "https://localhost:8080/",
          "height": 206
        },
        "id": "7b050fa7",
        "outputId": "79e5c893-c3a1-4cd4-ad2a-ce6e3d11b76d"
      },
      "source": [
        "df = pd.read_json(\"/content/drive/MyDrive/Fiap/trnTreaded.json\")\n",
        "df.head()"
      ],
      "execution_count": 37,
      "outputs": [
        {
          "output_type": "execute_result",
          "data": {
            "text/plain": [
              "                          title  \\\n",
              "0   Girls Ballet Tutu Neon Pink   \n",
              "3                 Mog's Kittens   \n",
              "7   Girls Ballet Tutu Neon Blue   \n",
              "12                  The Prophet   \n",
              "13    Rightly Dividing the Word   \n",
              "\n",
              "                                              content  \n",
              "0   High quality 3 layer ballet tutu. 12 inches in...  \n",
              "3   Judith Kerr&#8217;s best&#8211;selling adventu...  \n",
              "7   Dance tutu for girls ages 2-8 years. Perfect f...  \n",
              "12  In a distant, timeless place, a mysterious pro...  \n",
              "13         --This text refers to thePaperbackedition.  "
            ],
            "text/html": [
              "\n",
              "  <div id=\"df-1ea569e9-ffa7-4e60-bcb1-f8e7ee10cc11\" class=\"colab-df-container\">\n",
              "    <div>\n",
              "<style scoped>\n",
              "    .dataframe tbody tr th:only-of-type {\n",
              "        vertical-align: middle;\n",
              "    }\n",
              "\n",
              "    .dataframe tbody tr th {\n",
              "        vertical-align: top;\n",
              "    }\n",
              "\n",
              "    .dataframe thead th {\n",
              "        text-align: right;\n",
              "    }\n",
              "</style>\n",
              "<table border=\"1\" class=\"dataframe\">\n",
              "  <thead>\n",
              "    <tr style=\"text-align: right;\">\n",
              "      <th></th>\n",
              "      <th>title</th>\n",
              "      <th>content</th>\n",
              "    </tr>\n",
              "  </thead>\n",
              "  <tbody>\n",
              "    <tr>\n",
              "      <th>0</th>\n",
              "      <td>Girls Ballet Tutu Neon Pink</td>\n",
              "      <td>High quality 3 layer ballet tutu. 12 inches in...</td>\n",
              "    </tr>\n",
              "    <tr>\n",
              "      <th>3</th>\n",
              "      <td>Mog's Kittens</td>\n",
              "      <td>Judith Kerr&amp;#8217;s best&amp;#8211;selling adventu...</td>\n",
              "    </tr>\n",
              "    <tr>\n",
              "      <th>7</th>\n",
              "      <td>Girls Ballet Tutu Neon Blue</td>\n",
              "      <td>Dance tutu for girls ages 2-8 years. Perfect f...</td>\n",
              "    </tr>\n",
              "    <tr>\n",
              "      <th>12</th>\n",
              "      <td>The Prophet</td>\n",
              "      <td>In a distant, timeless place, a mysterious pro...</td>\n",
              "    </tr>\n",
              "    <tr>\n",
              "      <th>13</th>\n",
              "      <td>Rightly Dividing the Word</td>\n",
              "      <td>--This text refers to thePaperbackedition.</td>\n",
              "    </tr>\n",
              "  </tbody>\n",
              "</table>\n",
              "</div>\n",
              "    <div class=\"colab-df-buttons\">\n",
              "\n",
              "  <div class=\"colab-df-container\">\n",
              "    <button class=\"colab-df-convert\" onclick=\"convertToInteractive('df-1ea569e9-ffa7-4e60-bcb1-f8e7ee10cc11')\"\n",
              "            title=\"Convert this dataframe to an interactive table.\"\n",
              "            style=\"display:none;\">\n",
              "\n",
              "  <svg xmlns=\"http://www.w3.org/2000/svg\" height=\"24px\" viewBox=\"0 -960 960 960\">\n",
              "    <path d=\"M120-120v-720h720v720H120Zm60-500h600v-160H180v160Zm220 220h160v-160H400v160Zm0 220h160v-160H400v160ZM180-400h160v-160H180v160Zm440 0h160v-160H620v160ZM180-180h160v-160H180v160Zm440 0h160v-160H620v160Z\"/>\n",
              "  </svg>\n",
              "    </button>\n",
              "\n",
              "  <style>\n",
              "    .colab-df-container {\n",
              "      display:flex;\n",
              "      gap: 12px;\n",
              "    }\n",
              "\n",
              "    .colab-df-convert {\n",
              "      background-color: #E8F0FE;\n",
              "      border: none;\n",
              "      border-radius: 50%;\n",
              "      cursor: pointer;\n",
              "      display: none;\n",
              "      fill: #1967D2;\n",
              "      height: 32px;\n",
              "      padding: 0 0 0 0;\n",
              "      width: 32px;\n",
              "    }\n",
              "\n",
              "    .colab-df-convert:hover {\n",
              "      background-color: #E2EBFA;\n",
              "      box-shadow: 0px 1px 2px rgba(60, 64, 67, 0.3), 0px 1px 3px 1px rgba(60, 64, 67, 0.15);\n",
              "      fill: #174EA6;\n",
              "    }\n",
              "\n",
              "    .colab-df-buttons div {\n",
              "      margin-bottom: 4px;\n",
              "    }\n",
              "\n",
              "    [theme=dark] .colab-df-convert {\n",
              "      background-color: #3B4455;\n",
              "      fill: #D2E3FC;\n",
              "    }\n",
              "\n",
              "    [theme=dark] .colab-df-convert:hover {\n",
              "      background-color: #434B5C;\n",
              "      box-shadow: 0px 1px 3px 1px rgba(0, 0, 0, 0.15);\n",
              "      filter: drop-shadow(0px 1px 2px rgba(0, 0, 0, 0.3));\n",
              "      fill: #FFFFFF;\n",
              "    }\n",
              "  </style>\n",
              "\n",
              "    <script>\n",
              "      const buttonEl =\n",
              "        document.querySelector('#df-1ea569e9-ffa7-4e60-bcb1-f8e7ee10cc11 button.colab-df-convert');\n",
              "      buttonEl.style.display =\n",
              "        google.colab.kernel.accessAllowed ? 'block' : 'none';\n",
              "\n",
              "      async function convertToInteractive(key) {\n",
              "        const element = document.querySelector('#df-1ea569e9-ffa7-4e60-bcb1-f8e7ee10cc11');\n",
              "        const dataTable =\n",
              "          await google.colab.kernel.invokeFunction('convertToInteractive',\n",
              "                                                    [key], {});\n",
              "        if (!dataTable) return;\n",
              "\n",
              "        const docLinkHtml = 'Like what you see? Visit the ' +\n",
              "          '<a target=\"_blank\" href=https://colab.research.google.com/notebooks/data_table.ipynb>data table notebook</a>'\n",
              "          + ' to learn more about interactive tables.';\n",
              "        element.innerHTML = '';\n",
              "        dataTable['output_type'] = 'display_data';\n",
              "        await google.colab.output.renderOutput(dataTable, element);\n",
              "        const docLink = document.createElement('div');\n",
              "        docLink.innerHTML = docLinkHtml;\n",
              "        element.appendChild(docLink);\n",
              "      }\n",
              "    </script>\n",
              "  </div>\n",
              "\n",
              "\n",
              "    <div id=\"df-9b9d62fe-6099-405b-afc1-bc58fcefca79\">\n",
              "      <button class=\"colab-df-quickchart\" onclick=\"quickchart('df-9b9d62fe-6099-405b-afc1-bc58fcefca79')\"\n",
              "                title=\"Suggest charts\"\n",
              "                style=\"display:none;\">\n",
              "\n",
              "<svg xmlns=\"http://www.w3.org/2000/svg\" height=\"24px\"viewBox=\"0 0 24 24\"\n",
              "     width=\"24px\">\n",
              "    <g>\n",
              "        <path d=\"M19 3H5c-1.1 0-2 .9-2 2v14c0 1.1.9 2 2 2h14c1.1 0 2-.9 2-2V5c0-1.1-.9-2-2-2zM9 17H7v-7h2v7zm4 0h-2V7h2v10zm4 0h-2v-4h2v4z\"/>\n",
              "    </g>\n",
              "</svg>\n",
              "      </button>\n",
              "\n",
              "<style>\n",
              "  .colab-df-quickchart {\n",
              "      --bg-color: #E8F0FE;\n",
              "      --fill-color: #1967D2;\n",
              "      --hover-bg-color: #E2EBFA;\n",
              "      --hover-fill-color: #174EA6;\n",
              "      --disabled-fill-color: #AAA;\n",
              "      --disabled-bg-color: #DDD;\n",
              "  }\n",
              "\n",
              "  [theme=dark] .colab-df-quickchart {\n",
              "      --bg-color: #3B4455;\n",
              "      --fill-color: #D2E3FC;\n",
              "      --hover-bg-color: #434B5C;\n",
              "      --hover-fill-color: #FFFFFF;\n",
              "      --disabled-bg-color: #3B4455;\n",
              "      --disabled-fill-color: #666;\n",
              "  }\n",
              "\n",
              "  .colab-df-quickchart {\n",
              "    background-color: var(--bg-color);\n",
              "    border: none;\n",
              "    border-radius: 50%;\n",
              "    cursor: pointer;\n",
              "    display: none;\n",
              "    fill: var(--fill-color);\n",
              "    height: 32px;\n",
              "    padding: 0;\n",
              "    width: 32px;\n",
              "  }\n",
              "\n",
              "  .colab-df-quickchart:hover {\n",
              "    background-color: var(--hover-bg-color);\n",
              "    box-shadow: 0 1px 2px rgba(60, 64, 67, 0.3), 0 1px 3px 1px rgba(60, 64, 67, 0.15);\n",
              "    fill: var(--button-hover-fill-color);\n",
              "  }\n",
              "\n",
              "  .colab-df-quickchart-complete:disabled,\n",
              "  .colab-df-quickchart-complete:disabled:hover {\n",
              "    background-color: var(--disabled-bg-color);\n",
              "    fill: var(--disabled-fill-color);\n",
              "    box-shadow: none;\n",
              "  }\n",
              "\n",
              "  .colab-df-spinner {\n",
              "    border: 2px solid var(--fill-color);\n",
              "    border-color: transparent;\n",
              "    border-bottom-color: var(--fill-color);\n",
              "    animation:\n",
              "      spin 1s steps(1) infinite;\n",
              "  }\n",
              "\n",
              "  @keyframes spin {\n",
              "    0% {\n",
              "      border-color: transparent;\n",
              "      border-bottom-color: var(--fill-color);\n",
              "      border-left-color: var(--fill-color);\n",
              "    }\n",
              "    20% {\n",
              "      border-color: transparent;\n",
              "      border-left-color: var(--fill-color);\n",
              "      border-top-color: var(--fill-color);\n",
              "    }\n",
              "    30% {\n",
              "      border-color: transparent;\n",
              "      border-left-color: var(--fill-color);\n",
              "      border-top-color: var(--fill-color);\n",
              "      border-right-color: var(--fill-color);\n",
              "    }\n",
              "    40% {\n",
              "      border-color: transparent;\n",
              "      border-right-color: var(--fill-color);\n",
              "      border-top-color: var(--fill-color);\n",
              "    }\n",
              "    60% {\n",
              "      border-color: transparent;\n",
              "      border-right-color: var(--fill-color);\n",
              "    }\n",
              "    80% {\n",
              "      border-color: transparent;\n",
              "      border-right-color: var(--fill-color);\n",
              "      border-bottom-color: var(--fill-color);\n",
              "    }\n",
              "    90% {\n",
              "      border-color: transparent;\n",
              "      border-bottom-color: var(--fill-color);\n",
              "    }\n",
              "  }\n",
              "</style>\n",
              "\n",
              "      <script>\n",
              "        async function quickchart(key) {\n",
              "          const quickchartButtonEl =\n",
              "            document.querySelector('#' + key + ' button');\n",
              "          quickchartButtonEl.disabled = true;  // To prevent multiple clicks.\n",
              "          quickchartButtonEl.classList.add('colab-df-spinner');\n",
              "          try {\n",
              "            const charts = await google.colab.kernel.invokeFunction(\n",
              "                'suggestCharts', [key], {});\n",
              "          } catch (error) {\n",
              "            console.error('Error during call to suggestCharts:', error);\n",
              "          }\n",
              "          quickchartButtonEl.classList.remove('colab-df-spinner');\n",
              "          quickchartButtonEl.classList.add('colab-df-quickchart-complete');\n",
              "        }\n",
              "        (() => {\n",
              "          let quickchartButtonEl =\n",
              "            document.querySelector('#df-9b9d62fe-6099-405b-afc1-bc58fcefca79 button');\n",
              "          quickchartButtonEl.style.display =\n",
              "            google.colab.kernel.accessAllowed ? 'block' : 'none';\n",
              "        })();\n",
              "      </script>\n",
              "    </div>\n",
              "\n",
              "    </div>\n",
              "  </div>\n"
            ],
            "application/vnd.google.colaboratory.intrinsic+json": {
              "type": "dataframe",
              "variable_name": "df"
            }
          },
          "metadata": {},
          "execution_count": 37
        }
      ]
    },
    {
      "cell_type": "markdown",
      "metadata": {
        "id": "1e2d1916"
      },
      "source": [
        "### Display Data Shape and Null Counts"
      ]
    },
    {
      "cell_type": "code",
      "metadata": {
        "colab": {
          "base_uri": "https://localhost:8080/"
        },
        "id": "05ed31c9",
        "outputId": "812d1f36-9d71-4540-9faa-2319dcd1c907"
      },
      "source": [
        "df.shape\n",
        "total = len(df)\n",
        "null_title = df[\"title\"].isna().sum() + (df[\"title\"].astype(str).str.strip() == \"\").sum()\n",
        "null_content = df[\"content\"].isna().sum() + (df[\"content\"].astype(str).str.strip() == \"\").sum()\n",
        "\n",
        "print(\"Total de linhas:\", total)\n",
        "print(\"Linhas com title nulo/vazio:\", null_title)\n",
        "print(\"Linhas com content nulo/vazio:\", null_content)"
      ],
      "execution_count": 38,
      "outputs": [
        {
          "output_type": "stream",
          "name": "stdout",
          "text": [
            "Total de linhas: 1390403\n",
            "Linhas com title nulo/vazio: 0\n",
            "Linhas com content nulo/vazio: 0\n"
          ]
        }
      ]
    },
    {
      "cell_type": "markdown",
      "metadata": {
        "id": "1e2ff6f1"
      },
      "source": [
        "### Create Prompt/Completion and Save for Fine-tuning"
      ]
    },
    {
      "cell_type": "code",
      "metadata": {
        "colab": {
          "base_uri": "https://localhost:8080/"
        },
        "id": "cce485d6",
        "outputId": "4626a652-c367-4cee-84a8-257abeb312dd"
      },
      "source": [
        "# cria prompt/completion em inglês\n",
        "df[\"prompt\"] = \"Question: \" + df[\"title\"] + \"\\nAnswer:\"\n",
        "df[\"completion\"] = df[\"content\"]\n",
        "\n",
        "fine_tune_jsonl = \"/content/drive/MyDrive/Fiap/trn_finetune.jsonl\"\n",
        "df[[\"prompt\", \"completion\"]].to_json(\n",
        "    fine_tune_jsonl,\n",
        "    orient=\"records\",\n",
        "    lines=True,\n",
        "    force_ascii=False\n",
        ")\n",
        "\n",
        "print(\"✅ Dataset para fine-tuning salvo em:\", fine_tune_jsonl)\n",
        "print(\"Número de exemplos de treino:\", len(df))"
      ],
      "execution_count": 39,
      "outputs": [
        {
          "output_type": "stream",
          "name": "stdout",
          "text": [
            "✅ Dataset para fine-tuning salvo em: /content/drive/MyDrive/Fiap/trn_finetune.jsonl\n",
            "Número de exemplos de treino: 1390403\n"
          ]
        }
      ]
    }
  ]
}