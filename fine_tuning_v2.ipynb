{
  "cells": [
    {
      "cell_type": "markdown",
      "metadata": {},
      "source": [
        "# Tutorial de Fine-Tuning - FIAP Tech Challenge Fase 3\n",
        "\n",
        "## O que é Fine-Tuning?\n",
        "\n",
        "Fine-tuning é o processo de adaptar um modelo de linguagem pré-treinado para executar uma tarefa específica. Em vez de treinar do zero (que levaria semanas), pegamos um modelo existente e o treinamos com nossos dados específicos.\n",
        "\n",
        "## O que Vamos Aprender\n",
        "\n",
        "1. **Preparação de Dados**: Como formatar dados para treinamento\n",
        "2. **Carregamento de Modelo**: Como carregar um modelo pré-treinado eficientemente\n",
        "3. **Configuração LoRA**: Como usar Low-Rank Adaptation para treinamento eficiente\n",
        "4. **Processo de Treinamento**: Como treinar o modelo passo a passo\n",
        "5. **Inferência**: Como usar o modelo treinado para gerar texto\n",
        "\n",
        "## Conceitos Principais\n",
        "\n",
        "- **Modelo Pré-treinado**: Um modelo já treinado em dados massivos de texto\n",
        "- **LoRA**: Técnica para treinar apenas pequenas partes do modelo (economiza memória)\n",
        "- **Quantização 4-bit**: Reduz o tamanho do modelo em 75% com perda mínima de qualidade\n",
        "- **Formato Alpaca**: Formato padrão para datasets de instrução\n",
        "\n",
        "## Pré-requisitos\n",
        "\n",
        "Antes de começar, certifique-se de ter:\n",
        "- Dataset processado no formato Alpaca (da preparação de dados)\n",
        "- Memória GPU suficiente (recomendado: 8GB+ VRAM)\n",
        "- Bibliotecas necessárias instaladas\n"
      ]
    },
    {
      "cell_type": "markdown",
      "metadata": {},
      "source": [
        "## Etapa 1: Configuração do Ambiente e Dependências\n",
        "\n",
        "Primeiro, vamos instalar as bibliotecas necessárias e configurar nosso ambiente:\n",
        "\n",
        "### Bibliotecas Necessárias:\n",
        "- **transformers**: Biblioteca Hugging Face para modelos pré-treinados\n",
        "- **peft**: Parameter Efficient Fine-Tuning (suporte LoRA)\n",
        "- **bitsandbytes**: Suporte à quantização 4-bit\n",
        "- **datasets**: Carregamento e processamento de datasets\n",
        "- **accelerate**: Aceleração de treinamento\n"
      ]
    },
    {
      "cell_type": "code",
      "execution_count": 1,
      "metadata": {},
      "outputs": [
        {
          "name": "stdout",
          "output_type": "stream",
          "text": [
            "Defaulting to user installation because normal site-packages is not writeable\n",
            "\u001b[33mWARNING: Ignoring invalid distribution ~itsandbytes (/home/lucas-biason/.local/lib/python3.13/site-packages)\u001b[0m\u001b[33m\n",
            "\u001b[0m\u001b[33mWARNING: Ignoring invalid distribution ~itsandbytes (/home/lucas-biason/.local/lib/python3.13/site-packages)\u001b[0m\u001b[33m\n",
            "\u001b[0mRequirement already satisfied: transformers in /home/lucas-biason/.local/lib/python3.13/site-packages (4.38.2)\n",
            "Requirement already satisfied: peft in /home/lucas-biason/.local/lib/python3.13/site-packages (0.10.0)\n",
            "Requirement already satisfied: bitsandbytes in /home/lucas-biason/.local/lib/python3.13/site-packages (0.43.1)\n",
            "Requirement already satisfied: datasets in /home/lucas-biason/.local/lib/python3.13/site-packages (2.19.0)\n",
            "Requirement already satisfied: accelerate in /home/lucas-biason/.local/lib/python3.13/site-packages (0.28.0)\n",
            "Requirement already satisfied: torch in /home/lucas-biason/.local/lib/python3.13/site-packages (2.8.0)\n",
            "Requirement already satisfied: filelock in /home/lucas-biason/.local/lib/python3.13/site-packages (from transformers) (3.18.0)\n",
            "Requirement already satisfied: huggingface-hub<1.0,>=0.19.3 in /home/lucas-biason/.local/lib/python3.13/site-packages (from transformers) (0.34.4)\n",
            "Requirement already satisfied: numpy>=1.17 in /home/lucas-biason/.local/lib/python3.13/site-packages (from transformers) (2.3.2)\n",
            "Requirement already satisfied: packaging>=20.0 in /home/lucas-biason/.local/lib/python3.13/site-packages (from transformers) (25.0)\n",
            "Requirement already satisfied: pyyaml>=5.1 in /usr/lib/python3/dist-packages (from transformers) (6.0.2)\n",
            "Requirement already satisfied: regex!=2019.12.17 in /home/lucas-biason/.local/lib/python3.13/site-packages (from transformers) (2025.7.34)\n",
            "Requirement already satisfied: requests in /usr/lib/python3/dist-packages (from transformers) (2.32.3)\n",
            "Requirement already satisfied: tokenizers<0.19,>=0.14 in /home/lucas-biason/.local/lib/python3.13/site-packages (from transformers) (0.15.2)\n",
            "Requirement already satisfied: safetensors>=0.4.1 in /home/lucas-biason/.local/lib/python3.13/site-packages (from transformers) (0.6.2)\n",
            "Requirement already satisfied: tqdm>=4.27 in /home/lucas-biason/.local/lib/python3.13/site-packages (from transformers) (4.67.1)\n",
            "Requirement already satisfied: fsspec>=2023.5.0 in /home/lucas-biason/.local/lib/python3.13/site-packages (from huggingface-hub<1.0,>=0.19.3->transformers) (2024.3.1)\n",
            "Requirement already satisfied: typing-extensions>=3.7.4.3 in /usr/lib/python3/dist-packages (from huggingface-hub<1.0,>=0.19.3->transformers) (4.12.2)\n",
            "Requirement already satisfied: hf-xet<2.0.0,>=1.1.3 in /home/lucas-biason/.local/lib/python3.13/site-packages (from huggingface-hub<1.0,>=0.19.3->transformers) (1.1.7)\n",
            "Requirement already satisfied: psutil in /home/lucas-biason/.local/lib/python3.13/site-packages (from peft) (7.0.0)\n",
            "Requirement already satisfied: pyarrow>=12.0.0 in /home/lucas-biason/.local/lib/python3.13/site-packages (from datasets) (21.0.0)\n",
            "Requirement already satisfied: pyarrow-hotfix in /home/lucas-biason/.local/lib/python3.13/site-packages (from datasets) (0.7)\n",
            "Requirement already satisfied: dill<0.3.9,>=0.3.0 in /home/lucas-biason/.local/lib/python3.13/site-packages (from datasets) (0.3.7)\n",
            "Requirement already satisfied: pandas in /home/lucas-biason/.local/lib/python3.13/site-packages (from datasets) (2.3.1)\n",
            "Requirement already satisfied: xxhash in /home/lucas-biason/.local/lib/python3.13/site-packages (from datasets) (3.5.0)\n",
            "Requirement already satisfied: multiprocess in /home/lucas-biason/.local/lib/python3.13/site-packages (from datasets) (0.70.15)\n",
            "Requirement already satisfied: aiohttp in /home/lucas-biason/.local/lib/python3.13/site-packages (from datasets) (3.12.15)\n",
            "Requirement already satisfied: setuptools in /home/lucas-biason/.local/lib/python3.13/site-packages (from torch) (80.9.0)\n",
            "Requirement already satisfied: sympy>=1.13.3 in /home/lucas-biason/.local/lib/python3.13/site-packages (from torch) (1.14.0)\n",
            "Requirement already satisfied: networkx in /home/lucas-biason/.local/lib/python3.13/site-packages (from torch) (3.5)\n",
            "Requirement already satisfied: jinja2 in /usr/lib/python3/dist-packages (from torch) (3.1.5)\n",
            "Requirement already satisfied: nvidia-cuda-nvrtc-cu12==12.8.93 in /home/lucas-biason/.local/lib/python3.13/site-packages (from torch) (12.8.93)\n",
            "Requirement already satisfied: nvidia-cuda-runtime-cu12==12.8.90 in /home/lucas-biason/.local/lib/python3.13/site-packages (from torch) (12.8.90)\n",
            "Requirement already satisfied: nvidia-cuda-cupti-cu12==12.8.90 in /home/lucas-biason/.local/lib/python3.13/site-packages (from torch) (12.8.90)\n",
            "Requirement already satisfied: nvidia-cudnn-cu12==9.10.2.21 in /home/lucas-biason/.local/lib/python3.13/site-packages (from torch) (9.10.2.21)\n",
            "Requirement already satisfied: nvidia-cublas-cu12==12.8.4.1 in /home/lucas-biason/.local/lib/python3.13/site-packages (from torch) (12.8.4.1)\n",
            "Requirement already satisfied: nvidia-cufft-cu12==11.3.3.83 in /home/lucas-biason/.local/lib/python3.13/site-packages (from torch) (11.3.3.83)\n",
            "Requirement already satisfied: nvidia-curand-cu12==10.3.9.90 in /home/lucas-biason/.local/lib/python3.13/site-packages (from torch) (10.3.9.90)\n",
            "Requirement already satisfied: nvidia-cusolver-cu12==11.7.3.90 in /home/lucas-biason/.local/lib/python3.13/site-packages (from torch) (11.7.3.90)\n",
            "Requirement already satisfied: nvidia-cusparse-cu12==12.5.8.93 in /home/lucas-biason/.local/lib/python3.13/site-packages (from torch) (12.5.8.93)\n",
            "Requirement already satisfied: nvidia-cusparselt-cu12==0.7.1 in /home/lucas-biason/.local/lib/python3.13/site-packages (from torch) (0.7.1)\n",
            "Requirement already satisfied: nvidia-nccl-cu12==2.27.3 in /home/lucas-biason/.local/lib/python3.13/site-packages (from torch) (2.27.3)\n",
            "Requirement already satisfied: nvidia-nvtx-cu12==12.8.90 in /home/lucas-biason/.local/lib/python3.13/site-packages (from torch) (12.8.90)\n",
            "Requirement already satisfied: nvidia-nvjitlink-cu12==12.8.93 in /home/lucas-biason/.local/lib/python3.13/site-packages (from torch) (12.8.93)\n",
            "Requirement already satisfied: nvidia-cufile-cu12==1.13.1.3 in /home/lucas-biason/.local/lib/python3.13/site-packages (from torch) (1.13.1.3)\n",
            "Requirement already satisfied: triton==3.4.0 in /home/lucas-biason/.local/lib/python3.13/site-packages (from torch) (3.4.0)\n",
            "Requirement already satisfied: aiohappyeyeballs>=2.5.0 in /home/lucas-biason/.local/lib/python3.13/site-packages (from aiohttp->datasets) (2.6.1)\n",
            "Requirement already satisfied: aiosignal>=1.4.0 in /home/lucas-biason/.local/lib/python3.13/site-packages (from aiohttp->datasets) (1.4.0)\n",
            "Requirement already satisfied: attrs>=17.3.0 in /usr/lib/python3/dist-packages (from aiohttp->datasets) (25.1.0)\n",
            "Requirement already satisfied: frozenlist>=1.1.1 in /home/lucas-biason/.local/lib/python3.13/site-packages (from aiohttp->datasets) (1.7.0)\n",
            "Requirement already satisfied: multidict<7.0,>=4.5 in /home/lucas-biason/.local/lib/python3.13/site-packages (from aiohttp->datasets) (6.6.4)\n",
            "Requirement already satisfied: propcache>=0.2.0 in /home/lucas-biason/.local/lib/python3.13/site-packages (from aiohttp->datasets) (0.3.2)\n",
            "Requirement already satisfied: yarl<2.0,>=1.17.0 in /home/lucas-biason/.local/lib/python3.13/site-packages (from aiohttp->datasets) (1.20.1)\n",
            "Requirement already satisfied: idna>=2.0 in /usr/lib/python3/dist-packages (from yarl<2.0,>=1.17.0->aiohttp->datasets) (3.10)\n",
            "Requirement already satisfied: chardet>=3.0.2 in /usr/lib/python3/dist-packages (from requests->transformers) (5.2.0)\n",
            "Requirement already satisfied: urllib3<3,>=1.21.1 in /usr/lib/python3/dist-packages (from requests->transformers) (2.3.0)\n",
            "Requirement already satisfied: certifi>=2017.4.17 in /usr/lib/python3/dist-packages (from requests->transformers) (2025.1.31)\n",
            "Requirement already satisfied: mpmath<1.4,>=1.1.0 in /home/lucas-biason/.local/lib/python3.13/site-packages (from sympy>=1.13.3->torch) (1.3.0)\n",
            "Requirement already satisfied: MarkupSafe>=2.0 in /usr/lib/python3/dist-packages (from jinja2->torch) (2.1.5)\n",
            "Requirement already satisfied: python-dateutil>=2.8.2 in /usr/lib/python3/dist-packages (from pandas->datasets) (2.9.0)\n",
            "Requirement already satisfied: pytz>=2020.1 in /home/lucas-biason/.local/lib/python3.13/site-packages (from pandas->datasets) (2025.2)\n",
            "Requirement already satisfied: tzdata>=2022.7 in /home/lucas-biason/.local/lib/python3.13/site-packages (from pandas->datasets) (2025.2)\n",
            "\u001b[33mWARNING: Ignoring invalid distribution ~itsandbytes (/home/lucas-biason/.local/lib/python3.13/site-packages)\u001b[0m\u001b[33m\n",
            "\u001b[0m\u001b[33mWARNING: Ignoring invalid distribution ~itsandbytes (/home/lucas-biason/.local/lib/python3.13/site-packages)\u001b[0m\u001b[33m\n",
            "\u001b[0mNote: you may need to restart the kernel to use updated packages.\n",
            "Bibliotecas instaladas e importadas com sucesso!\n"
          ]
        }
      ],
      "source": [
        "# Install required libraries\n",
        "%pip install transformers peft bitsandbytes datasets accelerate torch\n",
        "\n",
        "# Import necessary modules\n",
        "import os\n",
        "import torch\n",
        "from fine_tuning.config import FineTuningConfig\n",
        "from fine_tuning.trainer import FineTuningTrainer\n",
        "from fine_tuning.model_detector import get_optimal_config\n",
        "\n",
        "print(\"Bibliotecas instaladas e importadas com sucesso!\")\n"
      ]
    },
    {
      "cell_type": "markdown",
      "metadata": {},
      "source": [
        "## Etapa 2: Detecção de Ambiente e Configuração de Caminhos\n",
        "\n",
        "Nosso sistema detecta automaticamente a melhor configuração baseada no seu ambiente (Colab vs Local) e recursos disponíveis (GPU, RAM, etc.).\n"
      ]
    },
    {
      "cell_type": "code",
      "execution_count": 2,
      "metadata": {},
      "outputs": [
        {
          "name": "stdout",
          "output_type": "stream",
          "text": [
            "Executando localmente\n",
            "Arquivo de treino: ./data/trn_finetune.jsonl\n",
            "Diretório de saída: ./data/fine_tuned_model\n",
            "✅ Arquivo de treino encontrado!\n",
            "Tamanho do arquivo: 648.2 MB\n"
          ]
        }
      ],
      "source": [
        "# Check if running in Google Colab\n",
        "try:\n",
        "    from google.colab import drive\n",
        "    IN_COLAB = True\n",
        "    drive.mount('/content/drive')\n",
        "    BASE_PATH = \"/content/drive/MyDrive/Fiap\"\n",
        "    print(\"Executando no Google Colab\")\n",
        "except ImportError:\n",
        "    IN_COLAB = False\n",
        "    BASE_PATH = \"./data\"\n",
        "    print(\"Executando localmente\")\n",
        "\n",
        "# Define file paths\n",
        "train_file = f\"{BASE_PATH}/trn_finetune.jsonl\"\n",
        "output_dir = f\"{BASE_PATH}/fine_tuned_model\"\n",
        "\n",
        "print(f\"Arquivo de treino: {train_file}\")\n",
        "print(f\"Diretório de saída: {output_dir}\")\n",
        "\n",
        "# Check if training file exists\n",
        "if os.path.exists(train_file):\n",
        "    print(\"✅ Arquivo de treino encontrado!\")\n",
        "    file_size = os.path.getsize(train_file) / (1024 * 1024)\n",
        "    print(f\"Tamanho do arquivo: {file_size:.1f} MB\")\n",
        "else:\n",
        "    print(\"❌ Arquivo de treino não encontrado! Execute a preparação de dados primeiro.\")\n"
      ]
    },
    {
      "cell_type": "markdown",
      "metadata": {},
      "source": [
        "## Etapa 3: Detecção de Modelo e Configuração\n",
        "\n",
        "Nosso sistema detecta automaticamente o melhor modelo e configuração baseado no seu hardware:\n"
      ]
    },
    {
      "cell_type": "code",
      "execution_count": 3,
      "metadata": {},
      "outputs": [
        {
          "name": "stdout",
          "output_type": "stream",
          "text": [
            "Detectando configuração ótima...\n",
            "=== DETECÇÃO DE MODELO COMPATÍVEL ===\n",
            "Ambiente: Local\n",
            "RAM: 30.5 GB\n",
            "GPU: Não\n",
            "\n",
            "Modelo Selecionado: distilgpt2\n",
            "Framework: transformers\n",
            "Unsloth: Não\n",
            "Quantização: Nenhuma\n",
            "Batch Size: 1\n",
            "Max Length: 128\n",
            "Razão: Sistema CPU com muita RAM - modelo pequeno\n",
            "========================================\n",
            "\n",
            "Configuração detectada:\n",
            "Modelo: distilgpt2\n",
            "Framework: transformers\n",
            "Unsloth disponível: False\n",
            "Quantização: None\n",
            "Tamanho do lote: 1\n",
            "Comprimento máximo: 128\n",
            "Razão: Sistema CPU com muita RAM - modelo pequeno\n"
          ]
        }
      ],
      "source": [
        "# Detect optimal configuration\n",
        "print(\"Detectando configuração ótima...\")\n",
        "config = get_optimal_config()\n",
        "\n",
        "print(f\"\\nConfiguração detectada:\")\n",
        "print(f\"Modelo: {config.model_name}\")\n",
        "print(f\"Framework: {config.framework}\")\n",
        "print(f\"Unsloth disponível: {config.use_unsloth}\")\n",
        "print(f\"Quantização: {config.quantization}\")\n",
        "print(f\"Tamanho do lote: {config.batch_size}\")\n",
        "print(f\"Comprimento máximo: {config.max_length}\")\n",
        "print(f\"Razão: {config.reason}\")\n"
      ]
    },
    {
      "cell_type": "markdown",
      "metadata": {},
      "source": [
        "## Etapa 4: Criar Configuração de Fine-Tuning\n",
        "\n",
        "Agora vamos criar a configuração completa de fine-tuning com todos os parâmetros necessários:\n"
      ]
    },
    {
      "cell_type": "code",
      "execution_count": 5,
      "metadata": {},
      "outputs": [
        {
          "name": "stdout",
          "output_type": "stream",
          "text": [
            "Criando configuração de fine-tuning...\n",
            "=== DETECÇÃO DE MODELO COMPATÍVEL ===\n",
            "Ambiente: Local\n",
            "RAM: 30.5 GB\n",
            "GPU: Não\n",
            "\n",
            "Modelo Selecionado: distilgpt2\n",
            "Framework: transformers\n",
            "Unsloth: Não\n",
            "Quantização: Nenhuma\n",
            "Batch Size: 1\n",
            "Max Length: 128\n",
            "Razão: Sistema CPU com muita RAM - modelo pequeno\n",
            "========================================\n",
            "=== FINE-TUNING CONFIGURATION ===\n",
            "Model: distilgpt2\n",
            "Framework: transformers\n",
            "Epochs: 3\n",
            "Learning Rate: 0.0002\n",
            "Batch Size: 1\n",
            "Max Length: 128\n",
            "Output Dir: ./data/fine_tuned_model\n",
            "Training File: ./data/trn_finetune.jsonl\n",
            "===================================\n",
            "\n",
            "Verificação da configuração:\n",
            "Arquivo de treino existe: True\n",
            "Diretório de saída: ./data/fine_tuned_model\n",
            "Modelo: distilgpt2\n",
            "Épocas: 3\n",
            "Taxa de aprendizado: 0.0002\n"
          ]
        }
      ],
      "source": [
        "# Create fine-tuning configuration\n",
        "print(\"Criando configuração de fine-tuning...\")\n",
        "finetuning_config = FineTuningConfig.create_default(train_file, output_dir)\n",
        "\n",
        "# Print configuration summary\n",
        "finetuning_config.print_summary()\n",
        "\n",
        "# Verify configuration\n",
        "print(f\"\\nVerificação da configuração:\")\n",
        "print(f\"Arquivo de treino existe: {os.path.exists(train_file)}\")\n",
        "print(f\"Diretório de saída: {output_dir}\")\n",
        "print(f\"Modelo: {finetuning_config.model_config.model_name}\")\n",
        "print(f\"Épocas: {finetuning_config.training_config.num_epochs}\")\n",
        "print(f\"Taxa de aprendizado: {finetuning_config.training_config.learning_rate}\")\n"
      ]
    },
    {
      "cell_type": "markdown",
      "metadata": {},
      "source": [
        "## Etapa 5: Inicializar Trainer de Fine-Tuning\n",
        "\n",
        "O trainer gerencia o pipeline completo de fine-tuning incluindo carregamento do modelo, preparação do dataset e treinamento:\n"
      ]
    },
    {
      "cell_type": "code",
      "execution_count": 6,
      "metadata": {},
      "outputs": [
        {
          "name": "stdout",
          "output_type": "stream",
          "text": [
            "Inicializando trainer de fine-tuning...\n",
            "✅ Trainer inicializado com sucesso!\n",
            "Configuração carregada: distilgpt2\n",
            "Treinamento usará: transformers\n",
            "Quantização: None\n"
          ]
        }
      ],
      "source": [
        "# Initialize trainer\n",
        "print(\"Inicializando trainer de fine-tuning...\")\n",
        "trainer = FineTuningTrainer(finetuning_config)\n",
        "\n",
        "print(\"✅ Trainer inicializado com sucesso!\")\n",
        "print(f\"Configuração carregada: {finetuning_config.model_config.model_name}\")\n",
        "print(f\"Treinamento usará: {finetuning_config.model_config.framework}\")\n",
        "print(f\"Quantização: {finetuning_config.model_config.quantization}\")\n"
      ]
    },
    {
      "cell_type": "markdown",
      "metadata": {},
      "source": [
        "## Etapa 6: Executar Pipeline Completo\n",
        "\n",
        "Agora vamos executar o pipeline completo de fine-tuning. Este processo inclui:\n",
        "- Carregamento do modelo e tokenizer\n",
        "- Preparação do dataset\n",
        "- Configuração do trainer\n",
        "- Execução do treinamento\n",
        "- Salvamento do modelo\n"
      ]
    },
    {
      "cell_type": "code",
      "execution_count": null,
      "metadata": {},
      "outputs": [
        {
          "name": "stderr",
          "output_type": "stream",
          "text": [
            "INFO:fine_tuning.trainer:Iniciando pipeline completo de fine-tuning...\n"
          ]
        },
        {
          "name": "stdout",
          "output_type": "stream",
          "text": [
            "Executando pipeline completo de fine-tuning...\n",
            "⚠️  Este processo pode levar alguns minutos ou horas...\n",
            "📊 Monitore o progresso abaixo:\n"
          ]
        },
        {
          "name": "stderr",
          "output_type": "stream",
          "text": [
            "INFO:fine_tuning.trainer:Configurando modelo com Transformers...\n"
          ]
        },
        {
          "data": {
            "application/vnd.jupyter.widget-view+json": {
              "model_id": "ffc7195ead9943bfa6a760100cb77051",
              "version_major": 2,
              "version_minor": 0
            },
            "text/plain": [
              "tokenizer_config.json:   0%|          | 0.00/26.0 [00:00<?, ?B/s]"
            ]
          },
          "metadata": {},
          "output_type": "display_data"
        },
        {
          "data": {
            "application/vnd.jupyter.widget-view+json": {
              "model_id": "599f110a07f94aa98f67a9bbe7d78db9",
              "version_major": 2,
              "version_minor": 0
            },
            "text/plain": [
              "config.json:   0%|          | 0.00/762 [00:00<?, ?B/s]"
            ]
          },
          "metadata": {},
          "output_type": "display_data"
        },
        {
          "data": {
            "application/vnd.jupyter.widget-view+json": {
              "model_id": "8537c84f1dc0435a87a5a7089796577d",
              "version_major": 2,
              "version_minor": 0
            },
            "text/plain": [
              "vocab.json:   0%|          | 0.00/1.04M [00:00<?, ?B/s]"
            ]
          },
          "metadata": {},
          "output_type": "display_data"
        },
        {
          "data": {
            "application/vnd.jupyter.widget-view+json": {
              "model_id": "f80cbd41d53b4fedbecceb5181e7244c",
              "version_major": 2,
              "version_minor": 0
            },
            "text/plain": [
              "merges.txt:   0%|          | 0.00/456k [00:00<?, ?B/s]"
            ]
          },
          "metadata": {},
          "output_type": "display_data"
        },
        {
          "data": {
            "application/vnd.jupyter.widget-view+json": {
              "model_id": "6f773ce768284672a78bc36b58a4bbd7",
              "version_major": 2,
              "version_minor": 0
            },
            "text/plain": [
              "tokenizer.json:   0%|          | 0.00/1.36M [00:00<?, ?B/s]"
            ]
          },
          "metadata": {},
          "output_type": "display_data"
        },
        {
          "data": {
            "application/vnd.jupyter.widget-view+json": {
              "model_id": "e83af7f895164dd9a5d59141b6513bd1",
              "version_major": 2,
              "version_minor": 0
            },
            "text/plain": [
              "model.safetensors:   0%|          | 0.00/353M [00:00<?, ?B/s]"
            ]
          },
          "metadata": {},
          "output_type": "display_data"
        },
        {
          "data": {
            "application/vnd.jupyter.widget-view+json": {
              "model_id": "67da04f7e1be49519eee9f4eeb8a720f",
              "version_major": 2,
              "version_minor": 0
            },
            "text/plain": [
              "generation_config.json:   0%|          | 0.00/124 [00:00<?, ?B/s]"
            ]
          },
          "metadata": {},
          "output_type": "display_data"
        },
        {
          "name": "stderr",
          "output_type": "stream",
          "text": [
            "INFO:fine_tuning.trainer:Modelo Transformers configurado com sucesso!\n",
            "INFO:datasets:PyTorch version 2.8.0 available.\n",
            "INFO:fine_tuning.trainer:Preparando dataset...\n"
          ]
        }
      ],
      "source": [
        "# Execute complete pipeline\n",
        "print(\"Executando pipeline completo de fine-tuning...\")\n",
        "print(\"⚠️  Este processo pode levar alguns minutos ou horas...\")\n",
        "print(\"📊 Monitore o progresso abaixo:\")\n",
        "\n",
        "success = trainer.run_full_pipeline()\n",
        "\n",
        "if success:\n",
        "    print(\"✅ Fine-tuning concluído com sucesso!\")\n",
        "    print(f\"Modelo salvo em: {output_dir}\")\n",
        "    print(\"🎉 Pipeline finalizado!\")\n",
        "else:\n",
        "    print(\"❌ Erro durante o fine-tuning! Verifique os logs acima.\")\n"
      ]
    },
    {
      "cell_type": "markdown",
      "metadata": {},
      "source": [
        "## Etapa 7: Teste de Inferência\n",
        "\n",
        "Vamos testar o modelo treinado para verificar se está funcionando corretamente:\n"
      ]
    },
    {
      "cell_type": "code",
      "execution_count": null,
      "metadata": {},
      "outputs": [],
      "source": [
        "# Test inference\n",
        "print(\"Testando modelo treinado...\")\n",
        "\n",
        "# Example test\n",
        "test_prompt = \"Generate a detailed description for the following item.\\n\\nInput: Smartphone\"\n",
        "\n",
        "print(f\"Prompt de teste: {test_prompt}\")\n",
        "print(\"\\nResposta do modelo:\")\n",
        "print(\"-\" * 50)\n",
        "\n",
        "# Here you can add code to test the model\n",
        "# Depending on the trainer implementation\n",
        "print(\"Modelo treinado e pronto para uso!\")\n",
        "print(\"✅ Fine-tuning concluído com sucesso!\")\n"
      ]
    }
  ],
  "metadata": {
    "kernelspec": {
      "display_name": ".venv",
      "language": "python",
      "name": "python3"
    },
    "language_info": {
      "codemirror_mode": {
        "name": "ipython",
        "version": 3
      },
      "file_extension": ".py",
      "mimetype": "text/x-python",
      "name": "python",
      "nbconvert_exporter": "python",
      "pygments_lexer": "ipython3",
      "version": "3.13.3"
    }
  },
  "nbformat": 4,
  "nbformat_minor": 2
}
